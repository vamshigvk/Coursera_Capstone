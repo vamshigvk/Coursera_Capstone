{
    "cells": [
        {
            "cell_type": "markdown",
            "metadata": {
                "collapsed": true
            },
            "source": "<center> <h1>The Battle of Neighborhoods</h1> </center>"
        },
        {
            "cell_type": "markdown",
            "metadata": {},
            "source": "<center> <h3>Opening a Shopping Mall in Hyderabad , Telangana, INDIA</h3> </center>"
        },
        {
            "cell_type": "markdown",
            "metadata": {},
            "source": " <center> <h4>Capstone Project - IBM Data Science</h4> </center>\n <center> <h4>     - by Vamshi Krishna Gundu</h4> </center>\n <center> <h5>       July 2020</h5> </center>"
        },
        {
            "cell_type": "markdown",
            "metadata": {},
            "source": "![Charminar](https://upload.wikimedia.org/wikipedia/commons/b/be/The_Charminar_on_a_cloudy_day.jpg)\n    : Source - Wikipedia"
        },
        {
            "cell_type": "markdown",
            "metadata": {},
            "source": "### 1. Introduction"
        },
        {
            "cell_type": "markdown",
            "metadata": {},
            "source": "    A shopping center, is a group of shops built together, sometimes under one roof(wikipedia). Most of the shopping is done at the shopping malls by us because it is a place where you can buy what you want, have some snack or food in between and if you are tired you can watch a movie or have fun playing games or any activities, all at a single place. So, most of us prefer shopping at shopping malls instead of shopping any other store or outlet. It is a place where any startup or someone can showcase their product and let the market know about it. Now a days, flash mobs are being conducted in Malls, social media festivals are also celebrated by conducting flash mobs and shows. Real estate business, Restaurants, Groceries, Jeweleries, without leaving a corner each and every business is brought into these malls. \n    \n    As a result this is a really huge benifit for the Businesses as well as owners/real-estate, Businesses will get into huge sales and owners of the outlets get the income as rent, as well as real estate developers get the profit as well as fame by constructing large and beautiful shopping malls.\n    \n    However there are plenty number of malls which are located in the city of Hyderabad. So, selecting a suitable location for business as well as public is difficult. The location of the mall ultimately decides whether it will get into profits or loss."
        },
        {
            "cell_type": "markdown",
            "metadata": {},
            "source": "### 2. Business Problem "
        },
        {
            "cell_type": "markdown",
            "metadata": {},
            "source": "    The objective of the project \" The Battle of Neighborhoods -  Opening a Shopping Mall in Hyderabad , Telangana, India\" is to explore and analyze the neighborhoods and the shopping malls in hyderabad , Telangana and select the best locations in the city to open a new Shopping Mall. Using geocoder library to get the latitude and longitudes for neighborhoods. Foursquare api to explore neighborhoods, Data Science methodology and K means clustering this project will be a solution to the business problem : __In the city of Hyderabad , Telangana state of India, if someone is looking to open a Shopping Mall, where would you recommend that they open it?__"
        },
        {
            "cell_type": "markdown",
            "metadata": {},
            "source": "### 3. Target audience of this Project"
        },
        {
            "cell_type": "markdown",
            "metadata": {},
            "source": "    Indian mall developers are looking to add over 65million square feets of new mall supply by 2022 end. Hyderabad one among the top cities comprise 11% share out of 7 cities. Hyderabad malls have average vacancy of 15%, lease rates of 100/- tp 160/- rupees per square feet, At present, Hyderabad has over four million sft of the area, says an article by Times of India. Hyderabad expected to get 6 million sq ft of shopping mall space in 3 years, says Economic Times report. With the increasing supply of shopping malls selecting a location which will meet the customer demand is difficult. So, this project helps in finding a good location to open a new shopping mall to Business stake holders, property developers, investors  as well as customers ."
        },
        {
            "cell_type": "markdown",
            "metadata": {},
            "source": "### 4. Data"
        },
        {
            "cell_type": "markdown",
            "metadata": {},
            "source": "__4.1 Below is the required data:__\n\n- List of neighborhoods in the city of Hyderabad. This will give us the scope of the areas to open shopping malls near to the residential areas and meet the demand.\n- Latitude and Longitudes of the extracted neighborhood data. This will act as the input parameters to the foursquare api to explore a neighborhood.\n- Shopping malls data, this will be the output from the foursquare api and help us to create clusters on the neighborhoods depending on the frequency of malls in a given radius of a particular neighborhood."
        },
        {
            "cell_type": "markdown",
            "metadata": {},
            "source": "__4.2 Sources and methods to get the data:__\n- The list of neighborhoods in Hyderabad is taken from a wikipedia page (https://en.wikipedia.org/wiki/List_of_neighbourhoods_in_Hyderabad), contains 31 neighborhoods in total, combining all the zones. By using web scraping technique we will get the neighborhood data from the wikipedia page.\n- We will then get the Latitude and Longitude of each neighborhood using geocoder library and attach these coordinates to our neighborhood data\n- Then with the help of Foursquare api calls we will send the coordinates of each neighborhoods and get the venues details of shopping malls and create the shopping malls data of each neighborhood.\n    \n    This project will be completed with the help of data science skills, data cleaning, exploring, analyzing, visualizing using folium maps in particular. Also takes help from foursquare api to get the shopping mall details which are near to each neighborhood. And finally using a machine learning technique 'K-means clustering' to cluster malls into different categories.\n"
        }
    ],
    "metadata": {
        "kernelspec": {
            "display_name": "Python 3.6",
            "language": "python",
            "name": "python3"
        },
        "language_info": {
            "codemirror_mode": {
                "name": "ipython",
                "version": 3
            },
            "file_extension": ".py",
            "mimetype": "text/x-python",
            "name": "python",
            "nbconvert_exporter": "python",
            "pygments_lexer": "ipython3",
            "version": "3.6.9"
        }
    },
    "nbformat": 4,
    "nbformat_minor": 1
}