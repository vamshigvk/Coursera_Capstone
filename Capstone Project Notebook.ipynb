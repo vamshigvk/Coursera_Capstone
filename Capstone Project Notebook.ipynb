{
    "cells": [
        {
            "cell_type": "markdown",
            "metadata": {
                "collapsed": true
            },
            "source": "# Battle of Neighborhoods"
        },
        {
            "cell_type": "markdown",
            "metadata": {},
            "source": "### 1. About this Project"
        },
        {
            "cell_type": "markdown",
            "metadata": {},
            "source": "This Notebook is created to group the neighbourhoods into clusters, \n\n    For example, we are gonna choose to compare different neighborhoods in terms of a service, search for potential explanation of why a neighborhood is popular, the cause of complaints in another neighborhood, or anything else related to neighborhoods.\n\n    Given a city like the City of Toronto, you will segment it into different neighborhoods using the geographical coordinates of the center of each neighborhood, and then using a combination of location data and machine learning, we will group the neighbourhoods into clusters."
        },
        {
            "cell_type": "markdown",
            "metadata": {},
            "source": "### 2. Importing the required libraries"
        },
        {
            "cell_type": "code",
            "execution_count": 1,
            "metadata": {},
            "outputs": [],
            "source": "import pandas as pd\nimport numpy as np"
        },
        {
            "cell_type": "code",
            "execution_count": 4,
            "metadata": {},
            "outputs": [
                {
                    "name": "stdout",
                    "output_type": "stream",
                    "text": "Hello Capstone Project Course!\nLets go ahead and learn as much as we can!!\nI am gonna publish this notebook to Coursera_Capstone repo of my github account\n"
                }
            ],
            "source": "print('Hello Capstone Project Course!')\nprint('Lets go ahead and learn as much as we can!!')\nprint('I am gonna publish this notebook to Coursera_Capstone repo of my github account')"
        },
        {
            "cell_type": "code",
            "execution_count": null,
            "metadata": {},
            "outputs": [],
            "source": ""
        }
    ],
    "metadata": {
        "kernelspec": {
            "display_name": "Python 3.6",
            "language": "python",
            "name": "python3"
        },
        "language_info": {
            "codemirror_mode": {
                "name": "ipython",
                "version": 3
            },
            "file_extension": ".py",
            "mimetype": "text/x-python",
            "name": "python",
            "nbconvert_exporter": "python",
            "pygments_lexer": "ipython3",
            "version": "3.6.9"
        }
    },
    "nbformat": 4,
    "nbformat_minor": 1
}